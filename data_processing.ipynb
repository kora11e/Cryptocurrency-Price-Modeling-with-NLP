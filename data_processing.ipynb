{
 "cells": [
  {
   "cell_type": "markdown",
   "metadata": {},
   "source": [
    "<h1>Sentiment extraction from Topic data</h1>\n",
    "<h3>This notebook is used to conduct sentiment score preparation</h3>"
   ]
  },
  {
   "cell_type": "code",
   "execution_count": null,
   "metadata": {},
   "outputs": [],
   "source": [
    "import pandas as pd\n",
    "import numpy as np\n",
    "import seaborn as sb\n",
    "import matplotlib.pyplot as plt\n",
    "from sklearn.preprocessing import normalize\n",
    "import yfinance as yh\n",
    "import matplotlib.pyplot as plt\n",
    "import copy"
   ]
  },
  {
   "cell_type": "code",
   "execution_count": null,
   "metadata": {},
   "outputs": [
    {
     "data": {
      "text/html": [
       "<div>\n",
       "<style scoped>\n",
       "    .dataframe tbody tr th:only-of-type {\n",
       "        vertical-align: middle;\n",
       "    }\n",
       "\n",
       "    .dataframe tbody tr th {\n",
       "        vertical-align: top;\n",
       "    }\n",
       "\n",
       "    .dataframe thead th {\n",
       "        text-align: right;\n",
       "    }\n",
       "</style>\n",
       "<table border=\"1\" class=\"dataframe\">\n",
       "  <thead>\n",
       "    <tr style=\"text-align: right;\">\n",
       "      <th></th>\n",
       "      <th>created_utc</th>\n",
       "      <th>title</th>\n",
       "    </tr>\n",
       "  </thead>\n",
       "  <tbody>\n",
       "    <tr>\n",
       "      <th>0</th>\n",
       "      <td>1635811168</td>\n",
       "      <td>Ethereum Extasy SOMEONE PLEASE SOLVE THIS FOR ...</td>\n",
       "    </tr>\n",
       "    <tr>\n",
       "      <th>1</th>\n",
       "      <td>1635810613</td>\n",
       "      <td>Anyone have any insight on the Davis Schwartz ...</td>\n",
       "    </tr>\n",
       "    <tr>\n",
       "      <th>2</th>\n",
       "      <td>1635810303</td>\n",
       "      <td>How And Where To Buy Ethereum Meta (ETHM) - St...</td>\n",
       "    </tr>\n",
       "    <tr>\n",
       "      <th>3</th>\n",
       "      <td>1635810172</td>\n",
       "      <td>Ethereum Name Service Is Launching a Governanc...</td>\n",
       "    </tr>\n",
       "    <tr>\n",
       "      <th>4</th>\n",
       "      <td>1635810155</td>\n",
       "      <td>Red Laser Eyes for BTC, what about Ethereum?</td>\n",
       "    </tr>\n",
       "    <tr>\n",
       "      <th>...</th>\n",
       "      <td>...</td>\n",
       "      <td>...</td>\n",
       "    </tr>\n",
       "    <tr>\n",
       "      <th>479255</th>\n",
       "      <td>1388799771</td>\n",
       "      <td>Welcome to Ethereum!</td>\n",
       "    </tr>\n",
       "    <tr>\n",
       "      <th>479256</th>\n",
       "      <td>1388343026</td>\n",
       "      <td>Ethereum: The Ultimate Smart Contract and Dece...</td>\n",
       "    </tr>\n",
       "    <tr>\n",
       "      <th>479257</th>\n",
       "      <td>1382296873</td>\n",
       "      <td>Welcome to Ethereum (or Etherium)</td>\n",
       "    </tr>\n",
       "    <tr>\n",
       "      <th>479258</th>\n",
       "      <td>1354285750</td>\n",
       "      <td>[Cloth] Elfling in a full priest t3 set (origi...</td>\n",
       "    </tr>\n",
       "    <tr>\n",
       "      <th>479259</th>\n",
       "      <td>1309721251</td>\n",
       "      <td>[Ethereum Prison Key] what was that again? oh ...</td>\n",
       "    </tr>\n",
       "  </tbody>\n",
       "</table>\n",
       "<p>479260 rows × 2 columns</p>\n",
       "</div>"
      ],
      "text/plain": [
       "        created_utc                                              title\n",
       "0        1635811168  Ethereum Extasy SOMEONE PLEASE SOLVE THIS FOR ...\n",
       "1        1635810613  Anyone have any insight on the Davis Schwartz ...\n",
       "2        1635810303  How And Where To Buy Ethereum Meta (ETHM) - St...\n",
       "3        1635810172  Ethereum Name Service Is Launching a Governanc...\n",
       "4        1635810155       Red Laser Eyes for BTC, what about Ethereum?\n",
       "...             ...                                                ...\n",
       "479255   1388799771                               Welcome to Ethereum!\n",
       "479256   1388343026  Ethereum: The Ultimate Smart Contract and Dece...\n",
       "479257   1382296873                  Welcome to Ethereum (or Etherium)\n",
       "479258   1354285750  [Cloth] Elfling in a full priest t3 set (origi...\n",
       "479259   1309721251  [Ethereum Prison Key] what was that again? oh ...\n",
       "\n",
       "[479260 rows x 2 columns]"
      ]
     },
     "execution_count": 26,
     "metadata": {},
     "output_type": "execute_result"
    }
   ],
   "source": [
    "data1 = \"./data/archive/the-reddit-ethereum-dataset-posts.csv\"\n",
    "df1 = pd.read_csv(data1)\n",
    "df1 = df1[['created_utc', 'title']]\n",
    "df1_h = copy.deepcopy(df1)\n",
    "\n",
    "df1"
   ]
  },
  {
   "cell_type": "markdown",
   "metadata": {},
   "source": [
    "<h2>Convert timestamps from utc to understandable format</h2>"
   ]
  },
  {
   "cell_type": "code",
   "execution_count": 27,
   "metadata": {},
   "outputs": [
    {
     "name": "stdout",
     "output_type": "stream",
     "text": [
      "       created_utc                                              title\n",
      "479259  2011-07-03  [Ethereum Prison Key] what was that again? oh ...\n",
      "479258  2012-11-30  [Cloth] Elfling in a full priest t3 set (origi...\n",
      "479257  2013-10-20                  Welcome to Ethereum (or Etherium)\n",
      "479256  2013-12-29  Ethereum: The Ultimate Smart Contract and Dece...\n",
      "479255  2014-01-04                               Welcome to Ethereum!\n",
      "created_utc    object\n",
      "title          object\n",
      "dtype: object\n"
     ]
    }
   ],
   "source": [
    "#daily observations\n",
    "\n",
    "df1['created_utc'] = pd.to_datetime(df1['created_utc'],unit='s')\n",
    "df1['created_utc'] = pd.to_datetime(df1['created_utc']).dt.date\n",
    "df1 = df1.sort_values(by='created_utc', ascending=True)\n",
    "\n",
    "print(df1.head())\n",
    "print(df1.dtypes)"
   ]
  },
  {
   "cell_type": "code",
   "execution_count": 28,
   "metadata": {},
   "outputs": [
    {
     "name": "stdout",
     "output_type": "stream",
     "text": [
      "created_utc    object\n",
      "title          object\n",
      "dtype: object\n"
     ]
    }
   ],
   "source": [
    "#hourly\n",
    "\n",
    "df1_h['created_utc'] = pd.to_datetime(df1_h['created_utc'],unit='s')\n",
    "df1_h['created_utc'] = pd.to_datetime(df1_h['created_utc']).dt.strftime(r'%Y-%m-%d-%H')\n",
    "df1_h = df1_h.sort_values(by='created_utc', ascending=True)\n",
    "\n",
    "print(df1_h.dtypes)"
   ]
  },
  {
   "cell_type": "code",
   "execution_count": 29,
   "metadata": {},
   "outputs": [
    {
     "name": "stdout",
     "output_type": "stream",
     "text": [
      "      created_utc                                              title\n",
      "19  2021-11-01-23  Got a question about blockchains for a collect...\n",
      "21  2021-11-01-23  Over the weekend I became the first content cr...\n",
      "22  2021-11-01-23  Institutional Investors Are Pouring Capital In...\n",
      "23  2021-11-01-23  Burger King, Robinhood serving up 'side of cry...\n",
      "24  2021-11-01-23  What is the difference between Layer 1 and Lay...\n",
      "25  2021-11-01-23  Day of the Dead NFTs -- utilizes Ethereum &amp...\n",
      "13  2021-11-01-23                   ETHEREUM GIVEAWAYS. UPTO $50,000\n",
      "0   2021-11-01-23  Ethereum Extasy SOMEONE PLEASE SOLVE THIS FOR ...\n"
     ]
    }
   ],
   "source": [
    "print(df1_h.tail(8))"
   ]
  },
  {
   "cell_type": "code",
   "execution_count": 30,
   "metadata": {},
   "outputs": [],
   "source": [
    "df1['created_utc'] = pd.to_datetime(df1['created_utc'])\n",
    "df1_h['created_utc'] = pd.to_datetime(df1_h['created_utc'])"
   ]
  },
  {
   "cell_type": "code",
   "execution_count": 31,
   "metadata": {},
   "outputs": [
    {
     "data": {
      "text/plain": [
       "dtype('<M8[ns]')"
      ]
     },
     "execution_count": 31,
     "metadata": {},
     "output_type": "execute_result"
    }
   ],
   "source": [
    "df1['created_utc'].dtype"
   ]
  },
  {
   "cell_type": "markdown",
   "metadata": {},
   "source": [
    "<h2>Masking time series</h2>"
   ]
  },
  {
   "cell_type": "code",
   "execution_count": 32,
   "metadata": {},
   "outputs": [],
   "source": [
    "start_date = '2021-01-01'\n",
    "end_date = '2022-01-01'\n",
    "\n",
    "mask = (df1['created_utc'] >= start_date) & (df1['created_utc'] < end_date)\n",
    "mask_2 = (df1_h['created_utc'] >= start_date) & (df1_h['created_utc'] < end_date)\n",
    "\n",
    "df1 = df1.loc[mask]\n",
    "df1_h = df1_h.loc[mask_2]"
   ]
  },
  {
   "cell_type": "code",
   "execution_count": 33,
   "metadata": {},
   "outputs": [
    {
     "data": {
      "text/html": [
       "<div>\n",
       "<style scoped>\n",
       "    .dataframe tbody tr th:only-of-type {\n",
       "        vertical-align: middle;\n",
       "    }\n",
       "\n",
       "    .dataframe tbody tr th {\n",
       "        vertical-align: top;\n",
       "    }\n",
       "\n",
       "    .dataframe thead th {\n",
       "        text-align: right;\n",
       "    }\n",
       "</style>\n",
       "<table border=\"1\" class=\"dataframe\">\n",
       "  <thead>\n",
       "    <tr style=\"text-align: right;\">\n",
       "      <th></th>\n",
       "      <th>created_utc</th>\n",
       "      <th>title</th>\n",
       "    </tr>\n",
       "  </thead>\n",
       "  <tbody>\n",
       "    <tr>\n",
       "      <th>159046</th>\n",
       "      <td>2021-01-01</td>\n",
       "      <td>Superb project and I have been working with th...</td>\n",
       "    </tr>\n",
       "    <tr>\n",
       "      <th>159045</th>\n",
       "      <td>2021-01-01</td>\n",
       "      <td>Doubt Ethereum 2.0 and ERC20 Protocol</td>\n",
       "    </tr>\n",
       "    <tr>\n",
       "      <th>159044</th>\n",
       "      <td>2021-01-01</td>\n",
       "      <td>ANALISE BITCOIN &amp;amp; ETHEREUM - FELIZ ANO NOV...</td>\n",
       "    </tr>\n",
       "    <tr>\n",
       "      <th>159043</th>\n",
       "      <td>2021-01-01</td>\n",
       "      <td>Zumo free £10 with of Ethereum</td>\n",
       "    </tr>\n",
       "    <tr>\n",
       "      <th>159042</th>\n",
       "      <td>2021-01-01</td>\n",
       "      <td>Doubt Ethereum 2.0 and ERC20 Protocol</td>\n",
       "    </tr>\n",
       "  </tbody>\n",
       "</table>\n",
       "</div>"
      ],
      "text/plain": [
       "       created_utc                                              title\n",
       "159046  2021-01-01  Superb project and I have been working with th...\n",
       "159045  2021-01-01              Doubt Ethereum 2.0 and ERC20 Protocol\n",
       "159044  2021-01-01  ANALISE BITCOIN &amp; ETHEREUM - FELIZ ANO NOV...\n",
       "159043  2021-01-01                     Zumo free £10 with of Ethereum\n",
       "159042  2021-01-01              Doubt Ethereum 2.0 and ERC20 Protocol"
      ]
     },
     "execution_count": 33,
     "metadata": {},
     "output_type": "execute_result"
    }
   ],
   "source": [
    "df1.head(5)"
   ]
  },
  {
   "cell_type": "code",
   "execution_count": 34,
   "metadata": {},
   "outputs": [
    {
     "data": {
      "text/html": [
       "<div>\n",
       "<style scoped>\n",
       "    .dataframe tbody tr th:only-of-type {\n",
       "        vertical-align: middle;\n",
       "    }\n",
       "\n",
       "    .dataframe tbody tr th {\n",
       "        vertical-align: top;\n",
       "    }\n",
       "\n",
       "    .dataframe thead th {\n",
       "        text-align: right;\n",
       "    }\n",
       "</style>\n",
       "<table border=\"1\" class=\"dataframe\">\n",
       "  <thead>\n",
       "    <tr style=\"text-align: right;\">\n",
       "      <th></th>\n",
       "      <th>created_utc</th>\n",
       "      <th>title</th>\n",
       "    </tr>\n",
       "  </thead>\n",
       "  <tbody>\n",
       "    <tr>\n",
       "      <th>159136</th>\n",
       "      <td>2021-01-01 00:00:00</td>\n",
       "      <td>[ CryptoCurrency ] Stratis InterFlux Release -...</td>\n",
       "    </tr>\n",
       "    <tr>\n",
       "      <th>159135</th>\n",
       "      <td>2021-01-01 00:00:00</td>\n",
       "      <td>Happy New Year Of Bitcoin, Ethereum, Alts, DeF...</td>\n",
       "    </tr>\n",
       "    <tr>\n",
       "      <th>159134</th>\n",
       "      <td>2021-01-01 00:00:00</td>\n",
       "      <td>Could having to pay gas fees prevent mass adop...</td>\n",
       "    </tr>\n",
       "    <tr>\n",
       "      <th>159123</th>\n",
       "      <td>2021-01-01 01:00:00</td>\n",
       "      <td>Ethereum Adopts Enjin’s ERC-1155 Token Standar...</td>\n",
       "    </tr>\n",
       "    <tr>\n",
       "      <th>159124</th>\n",
       "      <td>2021-01-01 01:00:00</td>\n",
       "      <td>Help please with Ethereum on ARM setup</td>\n",
       "    </tr>\n",
       "  </tbody>\n",
       "</table>\n",
       "</div>"
      ],
      "text/plain": [
       "               created_utc                                              title\n",
       "159136 2021-01-01 00:00:00  [ CryptoCurrency ] Stratis InterFlux Release -...\n",
       "159135 2021-01-01 00:00:00  Happy New Year Of Bitcoin, Ethereum, Alts, DeF...\n",
       "159134 2021-01-01 00:00:00  Could having to pay gas fees prevent mass adop...\n",
       "159123 2021-01-01 01:00:00  Ethereum Adopts Enjin’s ERC-1155 Token Standar...\n",
       "159124 2021-01-01 01:00:00             Help please with Ethereum on ARM setup"
      ]
     },
     "execution_count": 34,
     "metadata": {},
     "output_type": "execute_result"
    }
   ],
   "source": [
    "df1_h.head(5)"
   ]
  },
  {
   "cell_type": "markdown",
   "metadata": {},
   "source": [
    "<h2>Second dataset</h2>"
   ]
  },
  {
   "cell_type": "code",
   "execution_count": 35,
   "metadata": {},
   "outputs": [
    {
     "data": {
      "text/html": [
       "<div>\n",
       "<style scoped>\n",
       "    .dataframe tbody tr th:only-of-type {\n",
       "        vertical-align: middle;\n",
       "    }\n",
       "\n",
       "    .dataframe tbody tr th {\n",
       "        vertical-align: top;\n",
       "    }\n",
       "\n",
       "    .dataframe thead th {\n",
       "        text-align: right;\n",
       "    }\n",
       "</style>\n",
       "<table border=\"1\" class=\"dataframe\">\n",
       "  <thead>\n",
       "    <tr style=\"text-align: right;\">\n",
       "      <th></th>\n",
       "      <th>created_utc</th>\n",
       "      <th>title</th>\n",
       "    </tr>\n",
       "  </thead>\n",
       "  <tbody>\n",
       "    <tr>\n",
       "      <th>0</th>\n",
       "      <td>1635811192</td>\n",
       "      <td>Surely you must be aware of network effect.\\n\\...</td>\n",
       "    </tr>\n",
       "    <tr>\n",
       "      <th>1</th>\n",
       "      <td>1635811154</td>\n",
       "      <td>For real man, the gas fees are more than the t...</td>\n",
       "    </tr>\n",
       "    <tr>\n",
       "      <th>2</th>\n",
       "      <td>1635811138</td>\n",
       "      <td>What happens with bitcoin has implications for...</td>\n",
       "    </tr>\n",
       "    <tr>\n",
       "      <th>3</th>\n",
       "      <td>1635811120</td>\n",
       "      <td>Not exactly.  Ethereum addresses that made dep...</td>\n",
       "    </tr>\n",
       "    <tr>\n",
       "      <th>4</th>\n",
       "      <td>1635811036</td>\n",
       "      <td>Is the babydoge on the ethereum network the sa...</td>\n",
       "    </tr>\n",
       "    <tr>\n",
       "      <th>...</th>\n",
       "      <td>...</td>\n",
       "      <td>...</td>\n",
       "    </tr>\n",
       "    <tr>\n",
       "      <th>1132326</th>\n",
       "      <td>1314463399</td>\n",
       "      <td>Excellent list. So many awesome staves I wish ...</td>\n",
       "    </tr>\n",
       "    <tr>\n",
       "      <th>1132327</th>\n",
       "      <td>1314435612</td>\n",
       "      <td>[Frostscythe of Lord Ahune](http://www.wowhead...</td>\n",
       "    </tr>\n",
       "    <tr>\n",
       "      <th>1132328</th>\n",
       "      <td>1309736431</td>\n",
       "      <td>I'm guessing since the doing away with of keyr...</td>\n",
       "    </tr>\n",
       "    <tr>\n",
       "      <th>1132329</th>\n",
       "      <td>1308069759</td>\n",
       "      <td>I'd love to see more group quests and top-leve...</td>\n",
       "    </tr>\n",
       "    <tr>\n",
       "      <th>1132330</th>\n",
       "      <td>1306331550</td>\n",
       "      <td>They are removing most of the keys.\\n\\n\\n&amp;gt;A...</td>\n",
       "    </tr>\n",
       "  </tbody>\n",
       "</table>\n",
       "<p>1132331 rows × 2 columns</p>\n",
       "</div>"
      ],
      "text/plain": [
       "         created_utc                                              title\n",
       "0         1635811192  Surely you must be aware of network effect.\\n\\...\n",
       "1         1635811154  For real man, the gas fees are more than the t...\n",
       "2         1635811138  What happens with bitcoin has implications for...\n",
       "3         1635811120  Not exactly.  Ethereum addresses that made dep...\n",
       "4         1635811036  Is the babydoge on the ethereum network the sa...\n",
       "...              ...                                                ...\n",
       "1132326   1314463399  Excellent list. So many awesome staves I wish ...\n",
       "1132327   1314435612  [Frostscythe of Lord Ahune](http://www.wowhead...\n",
       "1132328   1309736431  I'm guessing since the doing away with of keyr...\n",
       "1132329   1308069759  I'd love to see more group quests and top-leve...\n",
       "1132330   1306331550  They are removing most of the keys.\\n\\n\\n&gt;A...\n",
       "\n",
       "[1132331 rows x 2 columns]"
      ]
     },
     "execution_count": 35,
     "metadata": {},
     "output_type": "execute_result"
    }
   ],
   "source": [
    "data2 = \"./archive/the-reddit-ethereum-dataset-comments.csv\"\n",
    "df2 = pd.read_csv(data2)\n",
    "df2 = df2[['created_utc', 'body']]\n",
    "df2 = df2.rename(columns={\"body\" : \"title\"})\n",
    "df2_h = copy.deepcopy(df2)\n",
    "\n",
    "df2"
   ]
  },
  {
   "cell_type": "markdown",
   "metadata": {},
   "source": [
    "daily"
   ]
  },
  {
   "cell_type": "code",
   "execution_count": 36,
   "metadata": {},
   "outputs": [
    {
     "name": "stdout",
     "output_type": "stream",
     "text": [
      "        created_utc                                              title\n",
      "1132330  2011-05-25  They are removing most of the keys.\\n\\n\\n&gt;A...\n",
      "1132329  2011-06-14  I'd love to see more group quests and top-leve...\n",
      "1132328  2011-07-03  I'm guessing since the doing away with of keyr...\n",
      "1132327  2011-08-27  [Frostscythe of Lord Ahune](http://www.wowhead...\n",
      "1132326  2011-08-27  Excellent list. So many awesome staves I wish ...\n",
      "created_utc    object\n",
      "title          object\n",
      "dtype: object\n"
     ]
    }
   ],
   "source": [
    "df2['created_utc'] = pd.to_datetime(df2['created_utc'], unit='s')\n",
    "df2['created_utc'] = pd.to_datetime(df2['created_utc']).dt.date\n",
    "df2 = df2.sort_values(by='created_utc', ascending=True)\n",
    "\n",
    "print(df2.head())\n",
    "print(df2.dtypes)"
   ]
  },
  {
   "cell_type": "code",
   "execution_count": 37,
   "metadata": {},
   "outputs": [],
   "source": [
    "df2['created_utc'] = pd.to_datetime(df2['created_utc'])"
   ]
  },
  {
   "cell_type": "code",
   "execution_count": 38,
   "metadata": {},
   "outputs": [
    {
     "data": {
      "text/html": [
       "<div>\n",
       "<style scoped>\n",
       "    .dataframe tbody tr th:only-of-type {\n",
       "        vertical-align: middle;\n",
       "    }\n",
       "\n",
       "    .dataframe tbody tr th {\n",
       "        vertical-align: top;\n",
       "    }\n",
       "\n",
       "    .dataframe thead th {\n",
       "        text-align: right;\n",
       "    }\n",
       "</style>\n",
       "<table border=\"1\" class=\"dataframe\">\n",
       "  <thead>\n",
       "    <tr style=\"text-align: right;\">\n",
       "      <th></th>\n",
       "      <th>created_utc</th>\n",
       "      <th>title</th>\n",
       "    </tr>\n",
       "  </thead>\n",
       "  <tbody>\n",
       "    <tr>\n",
       "      <th>430361</th>\n",
       "      <td>2021-01-01</td>\n",
       "      <td>Very interesting story!  I also want to pay a...</td>\n",
       "    </tr>\n",
       "    <tr>\n",
       "      <th>430359</th>\n",
       "      <td>2021-01-01</td>\n",
       "      <td>It's all about fundamentals, and your time pre...</td>\n",
       "    </tr>\n",
       "    <tr>\n",
       "      <th>430362</th>\n",
       "      <td>2021-01-01</td>\n",
       "      <td>Boas :)\\nSão investimentos mais voláteis mas a...</td>\n",
       "    </tr>\n",
       "    <tr>\n",
       "      <th>430363</th>\n",
       "      <td>2021-01-01</td>\n",
       "      <td>Ethereum can’t get their shit together, proof ...</td>\n",
       "    </tr>\n",
       "    <tr>\n",
       "      <th>430364</th>\n",
       "      <td>2021-01-01</td>\n",
       "      <td>Happy New Year, everybody!\\n\\nLots to report h...</td>\n",
       "    </tr>\n",
       "    <tr>\n",
       "      <th>...</th>\n",
       "      <td>...</td>\n",
       "      <td>...</td>\n",
       "    </tr>\n",
       "    <tr>\n",
       "      <th>1064</th>\n",
       "      <td>2021-11-01</td>\n",
       "      <td>That's because it was a coinbase internal tran...</td>\n",
       "    </tr>\n",
       "    <tr>\n",
       "      <th>1065</th>\n",
       "      <td>2021-11-01</td>\n",
       "      <td>IOTA zero rates.\\nEthereum rates are up 2,300%...</td>\n",
       "    </tr>\n",
       "    <tr>\n",
       "      <th>1066</th>\n",
       "      <td>2021-11-01</td>\n",
       "      <td>Yes it is. Those Ethereum are never going to g...</td>\n",
       "    </tr>\n",
       "    <tr>\n",
       "      <th>1068</th>\n",
       "      <td>2021-11-01</td>\n",
       "      <td>RGB seems like it's the most \"maxi\", but it is...</td>\n",
       "    </tr>\n",
       "    <tr>\n",
       "      <th>0</th>\n",
       "      <td>2021-11-01</td>\n",
       "      <td>Surely you must be aware of network effect.\\n\\...</td>\n",
       "    </tr>\n",
       "  </tbody>\n",
       "</table>\n",
       "<p>430637 rows × 2 columns</p>\n",
       "</div>"
      ],
      "text/plain": [
       "       created_utc                                              title\n",
       "430361  2021-01-01   Very interesting story!  I also want to pay a...\n",
       "430359  2021-01-01  It's all about fundamentals, and your time pre...\n",
       "430362  2021-01-01  Boas :)\\nSão investimentos mais voláteis mas a...\n",
       "430363  2021-01-01  Ethereum can’t get their shit together, proof ...\n",
       "430364  2021-01-01  Happy New Year, everybody!\\n\\nLots to report h...\n",
       "...            ...                                                ...\n",
       "1064    2021-11-01  That's because it was a coinbase internal tran...\n",
       "1065    2021-11-01  IOTA zero rates.\\nEthereum rates are up 2,300%...\n",
       "1066    2021-11-01  Yes it is. Those Ethereum are never going to g...\n",
       "1068    2021-11-01  RGB seems like it's the most \"maxi\", but it is...\n",
       "0       2021-11-01  Surely you must be aware of network effect.\\n\\...\n",
       "\n",
       "[430637 rows x 2 columns]"
      ]
     },
     "execution_count": 38,
     "metadata": {},
     "output_type": "execute_result"
    }
   ],
   "source": [
    "start_date = '2021-01-01'\n",
    "end_date = '2022-01-01'\n",
    "\n",
    "\n",
    "mask = (df2['created_utc'] >= start_date) & (df2['created_utc'] < end_date)\n",
    "\n",
    "df2.loc[mask]"
   ]
  },
  {
   "cell_type": "markdown",
   "metadata": {},
   "source": [
    "hourly"
   ]
  },
  {
   "cell_type": "code",
   "execution_count": 39,
   "metadata": {},
   "outputs": [
    {
     "name": "stdout",
     "output_type": "stream",
     "text": [
      "           created_utc                                              title\n",
      "1132330  2011-05-25-00  They are removing most of the keys.\\n\\n\\n&gt;A...\n",
      "1132329  2011-06-14-00  I'd love to see more group quests and top-leve...\n",
      "1132328  2011-07-03-00  I'm guessing since the doing away with of keyr...\n",
      "1132327  2011-08-27-00  [Frostscythe of Lord Ahune](http://www.wowhead...\n",
      "1132326  2011-08-27-00  Excellent list. So many awesome staves I wish ...\n",
      "created_utc    object\n",
      "title          object\n",
      "dtype: object\n"
     ]
    }
   ],
   "source": [
    "df2_h = copy.deepcopy(df2)\n",
    "\n",
    "df2_h['created_utc'] = pd.to_datetime(df2_h['created_utc'], unit='s')\n",
    "df2_h['created_utc'] = pd.to_datetime(df2_h['created_utc']).dt.strftime(r'%Y-%m-%d-%H')\n",
    "df2_h = df2_h.sort_values(by='created_utc', ascending=True)\n",
    "\n",
    "print(df2_h.head())\n",
    "print(df2_h.dtypes)"
   ]
  },
  {
   "cell_type": "code",
   "execution_count": 40,
   "metadata": {},
   "outputs": [
    {
     "data": {
      "text/html": [
       "<div>\n",
       "<style scoped>\n",
       "    .dataframe tbody tr th:only-of-type {\n",
       "        vertical-align: middle;\n",
       "    }\n",
       "\n",
       "    .dataframe tbody tr th {\n",
       "        vertical-align: top;\n",
       "    }\n",
       "\n",
       "    .dataframe thead th {\n",
       "        text-align: right;\n",
       "    }\n",
       "</style>\n",
       "<table border=\"1\" class=\"dataframe\">\n",
       "  <thead>\n",
       "    <tr style=\"text-align: right;\">\n",
       "      <th></th>\n",
       "      <th>created_utc</th>\n",
       "      <th>title</th>\n",
       "    </tr>\n",
       "  </thead>\n",
       "  <tbody>\n",
       "    <tr>\n",
       "      <th>430635</th>\n",
       "      <td>2021-01-01-00</td>\n",
       "      <td>cryptocurrency is absolutely valuable as a con...</td>\n",
       "    </tr>\n",
       "    <tr>\n",
       "      <th>430636</th>\n",
       "      <td>2021-01-01-00</td>\n",
       "      <td>Rollups will make dapp transactions free on Et...</td>\n",
       "    </tr>\n",
       "    <tr>\n",
       "      <th>430433</th>\n",
       "      <td>2021-01-01-00</td>\n",
       "      <td>Are there cheaper ways to send money? Definite...</td>\n",
       "    </tr>\n",
       "    <tr>\n",
       "      <th>430633</th>\n",
       "      <td>2021-01-01-00</td>\n",
       "      <td>Oh boy, here you are again spouting baseless, ...</td>\n",
       "    </tr>\n",
       "    <tr>\n",
       "      <th>430632</th>\n",
       "      <td>2021-01-01-00</td>\n",
       "      <td>But in the meantime you're just sitting there ...</td>\n",
       "    </tr>\n",
       "    <tr>\n",
       "      <th>...</th>\n",
       "      <td>...</td>\n",
       "      <td>...</td>\n",
       "    </tr>\n",
       "    <tr>\n",
       "      <th>4</th>\n",
       "      <td>2021-11-01-00</td>\n",
       "      <td>Is the babydoge on the ethereum network the sa...</td>\n",
       "    </tr>\n",
       "    <tr>\n",
       "      <th>3</th>\n",
       "      <td>2021-11-01-00</td>\n",
       "      <td>Not exactly.  Ethereum addresses that made dep...</td>\n",
       "    </tr>\n",
       "    <tr>\n",
       "      <th>2</th>\n",
       "      <td>2021-11-01-00</td>\n",
       "      <td>What happens with bitcoin has implications for...</td>\n",
       "    </tr>\n",
       "    <tr>\n",
       "      <th>22</th>\n",
       "      <td>2021-11-01-00</td>\n",
       "      <td>Bitcoin and ethereum</td>\n",
       "    </tr>\n",
       "    <tr>\n",
       "      <th>0</th>\n",
       "      <td>2021-11-01-00</td>\n",
       "      <td>Surely you must be aware of network effect.\\n\\...</td>\n",
       "    </tr>\n",
       "  </tbody>\n",
       "</table>\n",
       "<p>430637 rows × 2 columns</p>\n",
       "</div>"
      ],
      "text/plain": [
       "          created_utc                                              title\n",
       "430635  2021-01-01-00  cryptocurrency is absolutely valuable as a con...\n",
       "430636  2021-01-01-00  Rollups will make dapp transactions free on Et...\n",
       "430433  2021-01-01-00  Are there cheaper ways to send money? Definite...\n",
       "430633  2021-01-01-00  Oh boy, here you are again spouting baseless, ...\n",
       "430632  2021-01-01-00  But in the meantime you're just sitting there ...\n",
       "...               ...                                                ...\n",
       "4       2021-11-01-00  Is the babydoge on the ethereum network the sa...\n",
       "3       2021-11-01-00  Not exactly.  Ethereum addresses that made dep...\n",
       "2       2021-11-01-00  What happens with bitcoin has implications for...\n",
       "22      2021-11-01-00                               Bitcoin and ethereum\n",
       "0       2021-11-01-00  Surely you must be aware of network effect.\\n\\...\n",
       "\n",
       "[430637 rows x 2 columns]"
      ]
     },
     "execution_count": 40,
     "metadata": {},
     "output_type": "execute_result"
    }
   ],
   "source": [
    "mask_2 = (df2_h['created_utc'] >= start_date) & (df2_h['created_utc'] < end_date)\n",
    "\n",
    "df2_h.loc[mask_2]"
   ]
  },
  {
   "cell_type": "code",
   "execution_count": 41,
   "metadata": {},
   "outputs": [
    {
     "data": {
      "text/html": [
       "<div>\n",
       "<style scoped>\n",
       "    .dataframe tbody tr th:only-of-type {\n",
       "        vertical-align: middle;\n",
       "    }\n",
       "\n",
       "    .dataframe tbody tr th {\n",
       "        vertical-align: top;\n",
       "    }\n",
       "\n",
       "    .dataframe thead th {\n",
       "        text-align: right;\n",
       "    }\n",
       "</style>\n",
       "<table border=\"1\" class=\"dataframe\">\n",
       "  <thead>\n",
       "    <tr style=\"text-align: right;\">\n",
       "      <th></th>\n",
       "      <th>created_utc</th>\n",
       "      <th>title</th>\n",
       "    </tr>\n",
       "  </thead>\n",
       "  <tbody>\n",
       "    <tr>\n",
       "      <th>159046</th>\n",
       "      <td>2021-01-01</td>\n",
       "      <td>Superb project and I have been working with th...</td>\n",
       "    </tr>\n",
       "    <tr>\n",
       "      <th>159045</th>\n",
       "      <td>2021-01-01</td>\n",
       "      <td>Doubt Ethereum 2.0 and ERC20 Protocol</td>\n",
       "    </tr>\n",
       "    <tr>\n",
       "      <th>159044</th>\n",
       "      <td>2021-01-01</td>\n",
       "      <td>ANALISE BITCOIN &amp;amp; ETHEREUM - FELIZ ANO NOV...</td>\n",
       "    </tr>\n",
       "    <tr>\n",
       "      <th>159043</th>\n",
       "      <td>2021-01-01</td>\n",
       "      <td>Zumo free £10 with of Ethereum</td>\n",
       "    </tr>\n",
       "    <tr>\n",
       "      <th>159042</th>\n",
       "      <td>2021-01-01</td>\n",
       "      <td>Doubt Ethereum 2.0 and ERC20 Protocol</td>\n",
       "    </tr>\n",
       "    <tr>\n",
       "      <th>...</th>\n",
       "      <td>...</td>\n",
       "      <td>...</td>\n",
       "    </tr>\n",
       "    <tr>\n",
       "      <th>1064</th>\n",
       "      <td>2021-11-01</td>\n",
       "      <td>That's because it was a coinbase internal tran...</td>\n",
       "    </tr>\n",
       "    <tr>\n",
       "      <th>1065</th>\n",
       "      <td>2021-11-01</td>\n",
       "      <td>IOTA zero rates.\\nEthereum rates are up 2,300%...</td>\n",
       "    </tr>\n",
       "    <tr>\n",
       "      <th>1066</th>\n",
       "      <td>2021-11-01</td>\n",
       "      <td>Yes it is. Those Ethereum are never going to g...</td>\n",
       "    </tr>\n",
       "    <tr>\n",
       "      <th>1068</th>\n",
       "      <td>2021-11-01</td>\n",
       "      <td>RGB seems like it's the most \"maxi\", but it is...</td>\n",
       "    </tr>\n",
       "    <tr>\n",
       "      <th>0</th>\n",
       "      <td>2021-11-01</td>\n",
       "      <td>Surely you must be aware of network effect.\\n\\...</td>\n",
       "    </tr>\n",
       "  </tbody>\n",
       "</table>\n",
       "<p>1291468 rows × 2 columns</p>\n",
       "</div>"
      ],
      "text/plain": [
       "       created_utc                                              title\n",
       "159046  2021-01-01  Superb project and I have been working with th...\n",
       "159045  2021-01-01              Doubt Ethereum 2.0 and ERC20 Protocol\n",
       "159044  2021-01-01  ANALISE BITCOIN &amp; ETHEREUM - FELIZ ANO NOV...\n",
       "159043  2021-01-01                     Zumo free £10 with of Ethereum\n",
       "159042  2021-01-01              Doubt Ethereum 2.0 and ERC20 Protocol\n",
       "...            ...                                                ...\n",
       "1064    2021-11-01  That's because it was a coinbase internal tran...\n",
       "1065    2021-11-01  IOTA zero rates.\\nEthereum rates are up 2,300%...\n",
       "1066    2021-11-01  Yes it is. Those Ethereum are never going to g...\n",
       "1068    2021-11-01  RGB seems like it's the most \"maxi\", but it is...\n",
       "0       2021-11-01  Surely you must be aware of network effect.\\n\\...\n",
       "\n",
       "[1291468 rows x 2 columns]"
      ]
     },
     "execution_count": 41,
     "metadata": {},
     "output_type": "execute_result"
    }
   ],
   "source": [
    "#final daily observations\n",
    "\n",
    "df3 = pd.concat([df1, df2], sort=False)\n",
    "df3"
   ]
  },
  {
   "cell_type": "code",
   "execution_count": 42,
   "metadata": {},
   "outputs": [
    {
     "data": {
      "text/html": [
       "<div>\n",
       "<style scoped>\n",
       "    .dataframe tbody tr th:only-of-type {\n",
       "        vertical-align: middle;\n",
       "    }\n",
       "\n",
       "    .dataframe tbody tr th {\n",
       "        vertical-align: top;\n",
       "    }\n",
       "\n",
       "    .dataframe thead th {\n",
       "        text-align: right;\n",
       "    }\n",
       "</style>\n",
       "<table border=\"1\" class=\"dataframe\">\n",
       "  <thead>\n",
       "    <tr style=\"text-align: right;\">\n",
       "      <th></th>\n",
       "      <th>created_utc</th>\n",
       "      <th>title</th>\n",
       "    </tr>\n",
       "  </thead>\n",
       "  <tbody>\n",
       "    <tr>\n",
       "      <th>159136</th>\n",
       "      <td>2021-01-01 00:00:00</td>\n",
       "      <td>[ CryptoCurrency ] Stratis InterFlux Release -...</td>\n",
       "    </tr>\n",
       "    <tr>\n",
       "      <th>159135</th>\n",
       "      <td>2021-01-01 00:00:00</td>\n",
       "      <td>Happy New Year Of Bitcoin, Ethereum, Alts, DeF...</td>\n",
       "    </tr>\n",
       "    <tr>\n",
       "      <th>159134</th>\n",
       "      <td>2021-01-01 00:00:00</td>\n",
       "      <td>Could having to pay gas fees prevent mass adop...</td>\n",
       "    </tr>\n",
       "    <tr>\n",
       "      <th>159123</th>\n",
       "      <td>2021-01-01 01:00:00</td>\n",
       "      <td>Ethereum Adopts Enjin’s ERC-1155 Token Standar...</td>\n",
       "    </tr>\n",
       "    <tr>\n",
       "      <th>159124</th>\n",
       "      <td>2021-01-01 01:00:00</td>\n",
       "      <td>Help please with Ethereum on ARM setup</td>\n",
       "    </tr>\n",
       "    <tr>\n",
       "      <th>...</th>\n",
       "      <td>...</td>\n",
       "      <td>...</td>\n",
       "    </tr>\n",
       "    <tr>\n",
       "      <th>4</th>\n",
       "      <td>2021-11-01-00</td>\n",
       "      <td>Is the babydoge on the ethereum network the sa...</td>\n",
       "    </tr>\n",
       "    <tr>\n",
       "      <th>3</th>\n",
       "      <td>2021-11-01-00</td>\n",
       "      <td>Not exactly.  Ethereum addresses that made dep...</td>\n",
       "    </tr>\n",
       "    <tr>\n",
       "      <th>2</th>\n",
       "      <td>2021-11-01-00</td>\n",
       "      <td>What happens with bitcoin has implications for...</td>\n",
       "    </tr>\n",
       "    <tr>\n",
       "      <th>22</th>\n",
       "      <td>2021-11-01-00</td>\n",
       "      <td>Bitcoin and ethereum</td>\n",
       "    </tr>\n",
       "    <tr>\n",
       "      <th>0</th>\n",
       "      <td>2021-11-01-00</td>\n",
       "      <td>Surely you must be aware of network effect.\\n\\...</td>\n",
       "    </tr>\n",
       "  </tbody>\n",
       "</table>\n",
       "<p>1291468 rows × 2 columns</p>\n",
       "</div>"
      ],
      "text/plain": [
       "                created_utc                                              title\n",
       "159136  2021-01-01 00:00:00  [ CryptoCurrency ] Stratis InterFlux Release -...\n",
       "159135  2021-01-01 00:00:00  Happy New Year Of Bitcoin, Ethereum, Alts, DeF...\n",
       "159134  2021-01-01 00:00:00  Could having to pay gas fees prevent mass adop...\n",
       "159123  2021-01-01 01:00:00  Ethereum Adopts Enjin’s ERC-1155 Token Standar...\n",
       "159124  2021-01-01 01:00:00             Help please with Ethereum on ARM setup\n",
       "...                     ...                                                ...\n",
       "4             2021-11-01-00  Is the babydoge on the ethereum network the sa...\n",
       "3             2021-11-01-00  Not exactly.  Ethereum addresses that made dep...\n",
       "2             2021-11-01-00  What happens with bitcoin has implications for...\n",
       "22            2021-11-01-00                               Bitcoin and ethereum\n",
       "0             2021-11-01-00  Surely you must be aware of network effect.\\n\\...\n",
       "\n",
       "[1291468 rows x 2 columns]"
      ]
     },
     "execution_count": 42,
     "metadata": {},
     "output_type": "execute_result"
    }
   ],
   "source": [
    "#final hourly observations\n",
    "\n",
    "df3_h = pd.concat([df1_h, df2_h], sort=False)\n",
    "df3_h"
   ]
  },
  {
   "cell_type": "code",
   "execution_count": null,
   "metadata": {},
   "outputs": [
    {
     "data": {
      "text/html": [
       "<div>\n",
       "<style scoped>\n",
       "    .dataframe tbody tr th:only-of-type {\n",
       "        vertical-align: middle;\n",
       "    }\n",
       "\n",
       "    .dataframe tbody tr th {\n",
       "        vertical-align: top;\n",
       "    }\n",
       "\n",
       "    .dataframe thead th {\n",
       "        text-align: right;\n",
       "    }\n",
       "</style>\n",
       "<table border=\"1\" class=\"dataframe\">\n",
       "  <thead>\n",
       "    <tr style=\"text-align: right;\">\n",
       "      <th></th>\n",
       "      <th>created_utc</th>\n",
       "    </tr>\n",
       "  </thead>\n",
       "  <tbody>\n",
       "    <tr>\n",
       "      <th>count</th>\n",
       "      <td>1291468</td>\n",
       "    </tr>\n",
       "    <tr>\n",
       "      <th>mean</th>\n",
       "      <td>2019-09-09 10:49:44.257914368</td>\n",
       "    </tr>\n",
       "    <tr>\n",
       "      <th>min</th>\n",
       "      <td>2011-05-25 00:00:00</td>\n",
       "    </tr>\n",
       "    <tr>\n",
       "      <th>25%</th>\n",
       "      <td>2017-12-28 00:00:00</td>\n",
       "    </tr>\n",
       "    <tr>\n",
       "      <th>50%</th>\n",
       "      <td>2020-06-29 00:00:00</td>\n",
       "    </tr>\n",
       "    <tr>\n",
       "      <th>75%</th>\n",
       "      <td>2021-05-18 00:00:00</td>\n",
       "    </tr>\n",
       "    <tr>\n",
       "      <th>max</th>\n",
       "      <td>2021-11-01 00:00:00</td>\n",
       "    </tr>\n",
       "  </tbody>\n",
       "</table>\n",
       "</div>"
      ],
      "text/plain": [
       "                         created_utc\n",
       "count                        1291468\n",
       "mean   2019-09-09 10:49:44.257914368\n",
       "min              2011-05-25 00:00:00\n",
       "25%              2017-12-28 00:00:00\n",
       "50%              2020-06-29 00:00:00\n",
       "75%              2021-05-18 00:00:00\n",
       "max              2021-11-01 00:00:00"
      ]
     },
     "execution_count": 44,
     "metadata": {},
     "output_type": "execute_result"
    }
   ],
   "source": [
    "print(df3.dtypes)\n",
    "df3.describe()"
   ]
  },
  {
   "cell_type": "code",
   "execution_count": 45,
   "metadata": {},
   "outputs": [
    {
     "data": {
      "text/html": [
       "<div>\n",
       "<style scoped>\n",
       "    .dataframe tbody tr th:only-of-type {\n",
       "        vertical-align: middle;\n",
       "    }\n",
       "\n",
       "    .dataframe tbody tr th {\n",
       "        vertical-align: top;\n",
       "    }\n",
       "\n",
       "    .dataframe thead th {\n",
       "        text-align: right;\n",
       "    }\n",
       "</style>\n",
       "<table border=\"1\" class=\"dataframe\">\n",
       "  <thead>\n",
       "    <tr style=\"text-align: right;\">\n",
       "      <th></th>\n",
       "      <th>publication date</th>\n",
       "      <th>post</th>\n",
       "    </tr>\n",
       "  </thead>\n",
       "  <tbody>\n",
       "    <tr>\n",
       "      <th>159136</th>\n",
       "      <td>2021-01-01 00:00:00</td>\n",
       "      <td>[ CryptoCurrency ] Stratis InterFlux Release -...</td>\n",
       "    </tr>\n",
       "    <tr>\n",
       "      <th>159135</th>\n",
       "      <td>2021-01-01 00:00:00</td>\n",
       "      <td>Happy New Year Of Bitcoin, Ethereum, Alts, DeF...</td>\n",
       "    </tr>\n",
       "    <tr>\n",
       "      <th>159134</th>\n",
       "      <td>2021-01-01 00:00:00</td>\n",
       "      <td>Could having to pay gas fees prevent mass adop...</td>\n",
       "    </tr>\n",
       "    <tr>\n",
       "      <th>159123</th>\n",
       "      <td>2021-01-01 01:00:00</td>\n",
       "      <td>Ethereum Adopts Enjin’s ERC-1155 Token Standar...</td>\n",
       "    </tr>\n",
       "    <tr>\n",
       "      <th>159124</th>\n",
       "      <td>2021-01-01 01:00:00</td>\n",
       "      <td>Help please with Ethereum on ARM setup</td>\n",
       "    </tr>\n",
       "  </tbody>\n",
       "</table>\n",
       "</div>"
      ],
      "text/plain": [
       "           publication date                                               post\n",
       "159136  2021-01-01 00:00:00  [ CryptoCurrency ] Stratis InterFlux Release -...\n",
       "159135  2021-01-01 00:00:00  Happy New Year Of Bitcoin, Ethereum, Alts, DeF...\n",
       "159134  2021-01-01 00:00:00  Could having to pay gas fees prevent mass adop...\n",
       "159123  2021-01-01 01:00:00  Ethereum Adopts Enjin’s ERC-1155 Token Standar...\n",
       "159124  2021-01-01 01:00:00             Help please with Ethereum on ARM setup"
      ]
     },
     "execution_count": 45,
     "metadata": {},
     "output_type": "execute_result"
    }
   ],
   "source": [
    "df3 = df3.rename(columns={\"created_utc\" : \"publication date\", \"title\" : \"post\"})\n",
    "df3_h = df3_h.rename(columns={\"created_utc\" : \"publication date\", \"title\" : \"post\"})\n",
    "\n",
    "df3.head(5)\n",
    "df3_h.head(5)"
   ]
  },
  {
   "cell_type": "markdown",
   "metadata": {},
   "source": [
    "<h2>Calculating sentiment scores</h2>"
   ]
  },
  {
   "cell_type": "code",
   "execution_count": null,
   "metadata": {},
   "outputs": [
    {
     "name": "stderr",
     "output_type": "stream",
     "text": [
      "[nltk_data] Downloading package vader_lexicon to\n",
      "[nltk_data]     C:\\Users\\X\\AppData\\Roaming\\nltk_data...\n",
      "[nltk_data]   Package vader_lexicon is already up-to-date!\n"
     ]
    }
   ],
   "source": [
    "import numpy as np \n",
    "%matplotlib inline \n",
    "\n",
    "import nltk\n",
    "nltk.download('vader_lexicon')\n",
    "from nltk.sentiment.vader import SentimentIntensityAnalyzer\n",
    "\n",
    "analyser = SentimentIntensityAnalyzer()\n",
    "\n",
    "df3.head()"
   ]
  },
  {
   "cell_type": "code",
   "execution_count": null,
   "metadata": {},
   "outputs": [],
   "source": [
    "def print_sentiment_scores(sentence):\n",
    "    snt = analyser.polarity_scores(sentence)\n",
    "    print(\"{:-<40} {}\".format(sentence, str(snt)))\n",
    "\n",
    "arr = []\n",
    "arr_h = []\n",
    "\n",
    "i = 0\n",
    "\"\"\"  Leave it be \n",
    "while (i<len(df3)):\n",
    "\n",
    "    k = analyser.polarity_scores(df3.iloc[i]['post'])\n",
    "    arr.append(k['compound'])\n",
    "    \n",
    "    i = i+1\n",
    "\"\"\"\n",
    "i = 0\n",
    "\n",
    "while (i<len(df3_h)):\n",
    "\n",
    "    k = analyser.polarity_scores(df3_h.iloc[i]['post'])\n",
    "    arr_h.append(k['compound'])\n",
    "    \n",
    "    i = i+1"
   ]
  },
  {
   "cell_type": "code",
   "execution_count": 73,
   "metadata": {},
   "outputs": [
    {
     "name": "stdout",
     "output_type": "stream",
     "text": [
      "Size of daily dataset: (305, 3) 0\n",
      "Size of hourly dataset: (1291468, 2) 1291468\n"
     ]
    }
   ],
   "source": [
    "print('Size of daily dataset:', df3.shape, len(arr))\n",
    "print('Size of hourly dataset:', df3_h.shape, len(arr_h))"
   ]
  },
  {
   "cell_type": "code",
   "execution_count": 75,
   "metadata": {},
   "outputs": [
    {
     "data": {
      "text/html": [
       "<div>\n",
       "<style scoped>\n",
       "    .dataframe tbody tr th:only-of-type {\n",
       "        vertical-align: middle;\n",
       "    }\n",
       "\n",
       "    .dataframe tbody tr th {\n",
       "        vertical-align: top;\n",
       "    }\n",
       "\n",
       "    .dataframe thead th {\n",
       "        text-align: right;\n",
       "    }\n",
       "</style>\n",
       "<table border=\"1\" class=\"dataframe\">\n",
       "  <thead>\n",
       "    <tr style=\"text-align: right;\">\n",
       "      <th></th>\n",
       "      <th>publication date</th>\n",
       "      <th>mean_VADER</th>\n",
       "      <th>trade_sign</th>\n",
       "    </tr>\n",
       "  </thead>\n",
       "  <tbody>\n",
       "    <tr>\n",
       "      <th>2573</th>\n",
       "      <td>2021-01-01</td>\n",
       "      <td>0.041249</td>\n",
       "      <td>1</td>\n",
       "    </tr>\n",
       "    <tr>\n",
       "      <th>2574</th>\n",
       "      <td>2021-01-02</td>\n",
       "      <td>0.107192</td>\n",
       "      <td>1</td>\n",
       "    </tr>\n",
       "    <tr>\n",
       "      <th>2575</th>\n",
       "      <td>2021-01-03</td>\n",
       "      <td>-0.386431</td>\n",
       "      <td>-1</td>\n",
       "    </tr>\n",
       "    <tr>\n",
       "      <th>2576</th>\n",
       "      <td>2021-01-04</td>\n",
       "      <td>-0.602764</td>\n",
       "      <td>-1</td>\n",
       "    </tr>\n",
       "    <tr>\n",
       "      <th>2577</th>\n",
       "      <td>2021-01-05</td>\n",
       "      <td>-0.070846</td>\n",
       "      <td>-1</td>\n",
       "    </tr>\n",
       "  </tbody>\n",
       "</table>\n",
       "</div>"
      ],
      "text/plain": [
       "     publication date  mean_VADER  trade_sign\n",
       "2573       2021-01-01    0.041249           1\n",
       "2574       2021-01-02    0.107192           1\n",
       "2575       2021-01-03   -0.386431          -1\n",
       "2576       2021-01-04   -0.602764          -1\n",
       "2577       2021-01-05   -0.070846          -1"
      ]
     },
     "execution_count": 75,
     "metadata": {},
     "output_type": "execute_result"
    }
   ],
   "source": [
    "df3['VADER score'] = arr\n",
    "df3_h['VADER score'] = arr_h\n",
    "\n",
    "df3.head(5)"
   ]
  },
  {
   "cell_type": "code",
   "execution_count": null,
   "metadata": {},
   "outputs": [
    {
     "data": {
      "text/html": [
       "<div>\n",
       "<style scoped>\n",
       "    .dataframe tbody tr th:only-of-type {\n",
       "        vertical-align: middle;\n",
       "    }\n",
       "\n",
       "    .dataframe tbody tr th {\n",
       "        vertical-align: top;\n",
       "    }\n",
       "\n",
       "    .dataframe thead th {\n",
       "        text-align: right;\n",
       "    }\n",
       "</style>\n",
       "<table border=\"1\" class=\"dataframe\">\n",
       "  <thead>\n",
       "    <tr style=\"text-align: right;\">\n",
       "      <th></th>\n",
       "      <th>publication date</th>\n",
       "      <th>mean_VADER</th>\n",
       "    </tr>\n",
       "  </thead>\n",
       "  <tbody>\n",
       "    <tr>\n",
       "      <th>0</th>\n",
       "      <td>2021-01-01 00:00:00</td>\n",
       "      <td>0.267100</td>\n",
       "    </tr>\n",
       "    <tr>\n",
       "      <th>1</th>\n",
       "      <td>2021-01-01 01:00:00</td>\n",
       "      <td>0.419967</td>\n",
       "    </tr>\n",
       "    <tr>\n",
       "      <th>2</th>\n",
       "      <td>2021-01-01 02:00:00</td>\n",
       "      <td>0.680800</td>\n",
       "    </tr>\n",
       "    <tr>\n",
       "      <th>3</th>\n",
       "      <td>2021-01-01 04:00:00</td>\n",
       "      <td>0.488271</td>\n",
       "    </tr>\n",
       "    <tr>\n",
       "      <th>4</th>\n",
       "      <td>2021-01-01 05:00:00</td>\n",
       "      <td>0.340000</td>\n",
       "    </tr>\n",
       "    <tr>\n",
       "      <th>...</th>\n",
       "      <td>...</td>\n",
       "      <td>...</td>\n",
       "    </tr>\n",
       "    <tr>\n",
       "      <th>10141</th>\n",
       "      <td>2021-10-28-00</td>\n",
       "      <td>0.349099</td>\n",
       "    </tr>\n",
       "    <tr>\n",
       "      <th>10142</th>\n",
       "      <td>2021-10-29-00</td>\n",
       "      <td>0.388504</td>\n",
       "    </tr>\n",
       "    <tr>\n",
       "      <th>10143</th>\n",
       "      <td>2021-10-30-00</td>\n",
       "      <td>0.336406</td>\n",
       "    </tr>\n",
       "    <tr>\n",
       "      <th>10144</th>\n",
       "      <td>2021-10-31-00</td>\n",
       "      <td>0.357086</td>\n",
       "    </tr>\n",
       "    <tr>\n",
       "      <th>10145</th>\n",
       "      <td>2021-11-01-00</td>\n",
       "      <td>0.396529</td>\n",
       "    </tr>\n",
       "  </tbody>\n",
       "</table>\n",
       "<p>10146 rows × 2 columns</p>\n",
       "</div>"
      ],
      "text/plain": [
       "          publication date  mean_VADER\n",
       "0      2021-01-01 00:00:00    0.267100\n",
       "1      2021-01-01 01:00:00    0.419967\n",
       "2      2021-01-01 02:00:00    0.680800\n",
       "3      2021-01-01 04:00:00    0.488271\n",
       "4      2021-01-01 05:00:00    0.340000\n",
       "...                    ...         ...\n",
       "10141        2021-10-28-00    0.349099\n",
       "10142        2021-10-29-00    0.388504\n",
       "10143        2021-10-30-00    0.336406\n",
       "10144        2021-10-31-00    0.357086\n",
       "10145        2021-11-01-00    0.396529\n",
       "\n",
       "[10146 rows x 2 columns]"
      ]
     },
     "execution_count": 77,
     "metadata": {},
     "output_type": "execute_result"
    }
   ],
   "source": [
    "df3 = df3[df3['VADER score'] != 0]\n",
    "df3 = df3.groupby('publication date') \\\n",
    "       .agg(mean_VADER=('VADER score', 'mean')) \\\n",
    "       .reset_index()\n",
    "\n",
    "df3_h = df3_h[df3_h['VADER score'] != 0]\n",
    "df3_h = df3_h.groupby('publication date') \\\n",
    "       .agg(mean_VADER=('VADER score', 'mean')) \\\n",
    "       .reset_index()\n",
    "df3_h"
   ]
  },
  {
   "cell_type": "code",
   "execution_count": null,
   "metadata": {},
   "outputs": [],
   "source": [
    "df3['mean_VADER'] = (df3['mean_VADER'] - df3['mean_VADER'].mean()) / df3['mean_VADER'].std() \n",
    "df3_h['mean_VADER'] = (df3_h['mean_VADER'] - df3_h['mean_VADER'].mean()) / df3_h['mean_VADER'].std() "
   ]
  },
  {
   "cell_type": "code",
   "execution_count": null,
   "metadata": {},
   "outputs": [
    {
     "data": {
      "text/html": [
       "<div>\n",
       "<style scoped>\n",
       "    .dataframe tbody tr th:only-of-type {\n",
       "        vertical-align: middle;\n",
       "    }\n",
       "\n",
       "    .dataframe tbody tr th {\n",
       "        vertical-align: top;\n",
       "    }\n",
       "\n",
       "    .dataframe thead th {\n",
       "        text-align: right;\n",
       "    }\n",
       "</style>\n",
       "<table border=\"1\" class=\"dataframe\">\n",
       "  <thead>\n",
       "    <tr style=\"text-align: right;\">\n",
       "      <th></th>\n",
       "      <th>publication date</th>\n",
       "      <th>mean_VADER</th>\n",
       "    </tr>\n",
       "  </thead>\n",
       "  <tbody>\n",
       "    <tr>\n",
       "      <th>0</th>\n",
       "      <td>2021-01-01 00:00:00</td>\n",
       "      <td>-0.122054</td>\n",
       "    </tr>\n",
       "    <tr>\n",
       "      <th>1</th>\n",
       "      <td>2021-01-01 01:00:00</td>\n",
       "      <td>0.619884</td>\n",
       "    </tr>\n",
       "    <tr>\n",
       "      <th>2</th>\n",
       "      <td>2021-01-01 02:00:00</td>\n",
       "      <td>1.885840</td>\n",
       "    </tr>\n",
       "    <tr>\n",
       "      <th>3</th>\n",
       "      <td>2021-01-01 04:00:00</td>\n",
       "      <td>0.951402</td>\n",
       "    </tr>\n",
       "    <tr>\n",
       "      <th>4</th>\n",
       "      <td>2021-01-01 05:00:00</td>\n",
       "      <td>0.231766</td>\n",
       "    </tr>\n",
       "    <tr>\n",
       "      <th>...</th>\n",
       "      <td>...</td>\n",
       "      <td>...</td>\n",
       "    </tr>\n",
       "    <tr>\n",
       "      <th>10141</th>\n",
       "      <td>2021-10-28-00</td>\n",
       "      <td>0.275930</td>\n",
       "    </tr>\n",
       "    <tr>\n",
       "      <th>10142</th>\n",
       "      <td>2021-10-29-00</td>\n",
       "      <td>0.467179</td>\n",
       "    </tr>\n",
       "    <tr>\n",
       "      <th>10143</th>\n",
       "      <td>2021-10-30-00</td>\n",
       "      <td>0.214325</td>\n",
       "    </tr>\n",
       "    <tr>\n",
       "      <th>10144</th>\n",
       "      <td>2021-10-31-00</td>\n",
       "      <td>0.314691</td>\n",
       "    </tr>\n",
       "    <tr>\n",
       "      <th>10145</th>\n",
       "      <td>2021-11-01-00</td>\n",
       "      <td>0.506128</td>\n",
       "    </tr>\n",
       "  </tbody>\n",
       "</table>\n",
       "<p>10146 rows × 2 columns</p>\n",
       "</div>"
      ],
      "text/plain": [
       "          publication date  mean_VADER\n",
       "0      2021-01-01 00:00:00   -0.122054\n",
       "1      2021-01-01 01:00:00    0.619884\n",
       "2      2021-01-01 02:00:00    1.885840\n",
       "3      2021-01-01 04:00:00    0.951402\n",
       "4      2021-01-01 05:00:00    0.231766\n",
       "...                    ...         ...\n",
       "10141        2021-10-28-00    0.275930\n",
       "10142        2021-10-29-00    0.467179\n",
       "10143        2021-10-30-00    0.214325\n",
       "10144        2021-10-31-00    0.314691\n",
       "10145        2021-11-01-00    0.506128\n",
       "\n",
       "[10146 rows x 2 columns]"
      ]
     },
     "execution_count": 79,
     "metadata": {},
     "output_type": "execute_result"
    }
   ],
   "source": [
    "df3.rename({'sentiment': 'mean_VADER'})\n",
    "df3_h.rename({'sentiment': 'mean_VADER'})"
   ]
  },
  {
   "cell_type": "markdown",
   "metadata": {},
   "source": [
    "<h3>Deep copy to fix the existing issue (applied once)</h3>"
   ]
  },
  {
   "cell_type": "code",
   "execution_count": 87,
   "metadata": {},
   "outputs": [],
   "source": [
    "df3_h_c = copy.deepcopy(df3_h)"
   ]
  },
  {
   "cell_type": "code",
   "execution_count": 93,
   "metadata": {},
   "outputs": [
    {
     "name": "stdout",
     "output_type": "stream",
     "text": [
      "publication date     object\n",
      "mean_VADER          float64\n",
      "trade_sign            int64\n",
      "dtype: object\n"
     ]
    }
   ],
   "source": [
    "df3_h_c['publication date'] = pd.to_datetime(df3_h_c['publication date'],unit='s')\n",
    "df3_h_c['publication date'] = pd.to_datetime(df3_h_c['publication date']).dt.strftime(r'%Y-%m-%d-%H')\n",
    "df3_h_c = df3_h_c.sort_values(by='publication date', ascending=True)\n",
    "\n",
    "print(df3_h_c.dtypes)"
   ]
  },
  {
   "cell_type": "markdown",
   "metadata": {},
   "source": [
    "Sentiment conversion - we turn negative sentiment to -1 and positive sentiment to 1."
   ]
  },
  {
   "cell_type": "code",
   "execution_count": null,
   "metadata": {},
   "outputs": [],
   "source": [
    "df3['trade_sign'] = (df3['mean_VADER'] > 0) * 1 + (df3['mean_VADER'] < 0) * -1\n",
    "df3_h['trade_sign'] = (df3_h['mean_VADER'] > 0) * 1 + (df3_h['mean_VADER'] < 0) * -1"
   ]
  },
  {
   "cell_type": "code",
   "execution_count": 81,
   "metadata": {},
   "outputs": [
    {
     "data": {
      "text/plain": [
       "array([ 1, -1])"
      ]
     },
     "execution_count": 81,
     "metadata": {},
     "output_type": "execute_result"
    }
   ],
   "source": [
    "df3['trade_sign'].unique()"
   ]
  },
  {
   "cell_type": "code",
   "execution_count": null,
   "metadata": {},
   "outputs": [],
   "source": [
    "start_date = '2021-01-01'\n",
    "end_date = '2022-01-01'\n",
    "\n",
    "mask = (df3['publication date'] >= start_date) & (df3['publication date'] < end_date)\n",
    "#mask_2 = (df3_h_c['publication date'] >= start_date) & (df3_h_c['publication date'] < end_date)\n",
    "\n",
    "df3 = df3.loc[mask]\n",
    "#df3_h_c = df3_h_c.loc[mask_2]"
   ]
  },
  {
   "cell_type": "code",
   "execution_count": 110,
   "metadata": {},
   "outputs": [
    {
     "data": {
      "text/plain": [
       "(10146, 3)"
      ]
     },
     "execution_count": 110,
     "metadata": {},
     "output_type": "execute_result"
    }
   ],
   "source": [
    "df3_h.shape"
   ]
  },
  {
   "cell_type": "code",
   "execution_count": null,
   "metadata": {},
   "outputs": [],
   "source": [
    "df3.to_csv('./data/sentiment_processed/daily_sentiment.csv', index=False)\n",
    "df3_h.to_csv('./data/sentiment_processed/hourly_sentiment.csv', index=False)"
   ]
  }
 ],
 "metadata": {
  "kernelspec": {
   "display_name": "Python 3",
   "language": "python",
   "name": "python3"
  },
  "language_info": {
   "codemirror_mode": {
    "name": "ipython",
    "version": 3
   },
   "file_extension": ".py",
   "mimetype": "text/x-python",
   "name": "python",
   "nbconvert_exporter": "python",
   "pygments_lexer": "ipython3",
   "version": "3.13.3"
  }
 },
 "nbformat": 4,
 "nbformat_minor": 2
}
